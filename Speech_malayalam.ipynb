{
 "cells": [
  {
   "cell_type": "code",
   "execution_count": 1,
   "id": "106ec40f",
   "metadata": {},
   "outputs": [],
   "source": [
    "import librosa\n",
    "import numpy as np\n",
    "import pyworld as pw\n",
    "import os\n",
    "import tensorflow as tf\n",
    "import pandas as pd"
   ]
  },
  {
   "cell_type": "markdown",
   "id": "8ce565b4",
   "metadata": {},
   "source": [
    "### Features are already extracted for malayalam audio dataset"
   ]
  },
  {
   "cell_type": "code",
   "execution_count": 2,
   "id": "dbc774af",
   "metadata": {},
   "outputs": [
    {
     "data": {
      "text/plain": [
       "dict_keys(['__header__', '__version__', '__globals__', 'Features', 'P_id', 'Score', 'Category'])"
      ]
     },
     "execution_count": 2,
     "metadata": {},
     "output_type": "execute_result"
    }
   ],
   "source": [
    "import scipy.io\n",
    "path = r\"E:\\Anjali\\MODEL\\Malayalam\\ap_f0_mfb_features_mal.mat\"\n",
    "df=scipy.io.loadmat(path)\n",
    "df.keys()"
   ]
  },
  {
   "cell_type": "code",
   "execution_count": 3,
   "id": "79b8946c",
   "metadata": {},
   "outputs": [],
   "source": [
    "features = np.hstack(df['Features'])\n",
    "label1 = np.hstack(df['Score'])\n",
    "label2 = np.hstack(df['Category'])"
   ]
  },
  {
   "cell_type": "code",
   "execution_count": 4,
   "id": "18e2c0eb",
   "metadata": {},
   "outputs": [
    {
     "name": "stdout",
     "output_type": "stream",
     "text": [
      "Shape of segmented features: (19588, 100, 38)\n",
      "Shape of regression_labels: (19588,)\n",
      "Shape of classification_labels: (19588,)\n"
     ]
    }
   ],
   "source": [
    "# Define the segment length\n",
    "segment_length = 100  # Choose a suitable segment length based on your data\n",
    "\n",
    "# Initialize lists to store segmented features and labels\n",
    "segmented_features = []\n",
    "segmented_label1 = []\n",
    "segmented_label2 =[]\n",
    "\n",
    "# Iterate over each audio clip\n",
    "for i in range(len(features)):\n",
    "    # Get the current audio clip and its corresponding label\n",
    "    current_features = features[i]\n",
    "    current_label1 = label1[i]\n",
    "    current_label2 = label2[i]\n",
    "\n",
    "    # Calculate the number of segments for this audio clip\n",
    "    num_segments = len(current_features) // segment_length\n",
    "\n",
    "    # Iterate over each segment\n",
    "    for j in range(num_segments):\n",
    "        # Calculate the start and end indices for the current segment\n",
    "        start_idx = j * segment_length\n",
    "        end_idx = start_idx + segment_length\n",
    "\n",
    "        # Extract the segment of features and its corresponding label\n",
    "        segment_features = current_features[start_idx:end_idx]\n",
    "\n",
    "        # Append the segmented features and label to the lists\n",
    "        segmented_features.append(segment_features)\n",
    "        segmented_label1.append(current_label1)\n",
    "        segmented_label2.append(current_label2)\n",
    "\n",
    "# Convert the segmented features and labels to numpy arrays\n",
    "segmented_features = np.array(segmented_features)\n",
    "regression_label = np.array(segmented_label1)\n",
    "classification_label = np.array(segmented_label2)\n",
    "\n",
    "# Check the shape of the segmented features and labels\n",
    "print(\"Shape of segmented features:\", segmented_features.shape)\n",
    "print(\"Shape of regression_labels:\", regression_label.shape)\n",
    "print(\"Shape of classification_labels:\", classification_label.shape)\n"
   ]
  },
  {
   "cell_type": "code",
   "execution_count": 5,
   "id": "46f9dc83",
   "metadata": {},
   "outputs": [
    {
     "name": "stdout",
     "output_type": "stream",
     "text": [
      "(15670, 100, 38)\n",
      "(3918, 100, 38)\n",
      "(15670,)\n",
      "(3918,)\n",
      "(15670,)\n",
      "(3918,)\n"
     ]
    }
   ],
   "source": [
    "from sklearn.model_selection import train_test_split\n",
    "x_train,x_test,y_train_regression,y_test_regression,y_train_classification,y_test_classification = train_test_split(segmented_features,regression_label,classification_label,test_size=0.2, random_state=42)\n",
    "\n",
    "print(x_train.shape)\n",
    "print(x_test.shape)\n",
    "print(y_train_regression.shape)\n",
    "print(y_test_regression.shape)\n",
    "print(y_train_classification.shape)\n",
    "print(y_test_classification.shape)"
   ]
  },
  {
   "cell_type": "code",
   "execution_count": 6,
   "id": "c04c9d93",
   "metadata": {},
   "outputs": [
    {
     "name": "stdout",
     "output_type": "stream",
     "text": [
      "[[0. 1. 0. 0. 0.]\n",
      " [0. 1. 0. 0. 0.]\n",
      " [0. 1. 0. 0. 0.]\n",
      " ...\n",
      " [0. 0. 1. 0. 0.]\n",
      " [0. 1. 0. 0. 0.]\n",
      " [0. 0. 0. 0. 1.]]\n"
     ]
    }
   ],
   "source": [
    "import tensorflow as tf\n",
    "\n",
    "# Define the categories\n",
    "categories = ['None', 'Mild', 'Moderate', 'Moderately severe', 'Severe']\n",
    "\n",
    "# Convert categories to one-hot encoded format\n",
    "y_train_classification_onehot = tf.keras.utils.to_categorical(y_train_classification, num_classes=len(categories))\n",
    "y_test_classification_onehot = tf.keras.utils.to_categorical(y_test_classification, num_classes=len(categories))\n",
    "\n",
    "print(y_test_classification_onehot)"
   ]
  },
  {
   "cell_type": "markdown",
   "id": "0773e710",
   "metadata": {},
   "source": [
    "## LSTM MODEL"
   ]
  },
  {
   "cell_type": "code",
   "execution_count": 7,
   "id": "e0dbee9a",
   "metadata": {},
   "outputs": [
    {
     "name": "stdout",
     "output_type": "stream",
     "text": [
      "Model: \"sequential\"\n",
      "_________________________________________________________________\n",
      " Layer (type)                Output Shape              Param #   \n",
      "=================================================================\n",
      " lstm (LSTM)                 (None, 100, 128)          85504     \n",
      "                                                                 \n",
      " dropout (Dropout)           (None, 100, 128)          0         \n",
      "                                                                 \n",
      " lstm_1 (LSTM)               (None, 64)                49408     \n",
      "                                                                 \n",
      " dropout_1 (Dropout)         (None, 64)                0         \n",
      "                                                                 \n",
      " dense (Dense)               (None, 64)                4160      \n",
      "                                                                 \n",
      " dense_1 (Dense)             (None, 32)                2080      \n",
      "                                                                 \n",
      " dropout_2 (Dropout)         (None, 32)                0         \n",
      "                                                                 \n",
      " dense_2 (Dense)             (None, 5)                 165       \n",
      "                                                                 \n",
      "=================================================================\n",
      "Total params: 141,317\n",
      "Trainable params: 141,317\n",
      "Non-trainable params: 0\n",
      "_________________________________________________________________\n",
      "Epoch 1/40\n",
      "490/490 [==============================] - 63s 120ms/step - loss: 1.3526 - accuracy: 0.4040 - val_loss: 1.3128 - val_accuracy: 0.4084\n",
      "Epoch 2/40\n",
      "490/490 [==============================] - 69s 140ms/step - loss: 1.3028 - accuracy: 0.4229 - val_loss: 1.2863 - val_accuracy: 0.4196\n",
      "Epoch 3/40\n",
      "490/490 [==============================] - 71s 144ms/step - loss: 1.2627 - accuracy: 0.4458 - val_loss: 1.2569 - val_accuracy: 0.4390\n",
      "Epoch 4/40\n",
      "490/490 [==============================] - 68s 139ms/step - loss: 1.2139 - accuracy: 0.4721 - val_loss: 1.2244 - val_accuracy: 0.4867\n",
      "Epoch 5/40\n",
      "490/490 [==============================] - 66s 134ms/step - loss: 1.1321 - accuracy: 0.5259 - val_loss: 1.1682 - val_accuracy: 0.5038\n",
      "Epoch 6/40\n",
      "490/490 [==============================] - 61s 125ms/step - loss: 1.0922 - accuracy: 0.5490 - val_loss: 1.1054 - val_accuracy: 0.5194\n",
      "Epoch 7/40\n",
      "490/490 [==============================] - 61s 124ms/step - loss: 1.0609 - accuracy: 0.5614 - val_loss: 1.1427 - val_accuracy: 0.5112\n",
      "Epoch 8/40\n",
      "490/490 [==============================] - 55s 113ms/step - loss: 0.9620 - accuracy: 0.6136 - val_loss: 1.0574 - val_accuracy: 0.5664\n",
      "Epoch 9/40\n",
      "490/490 [==============================] - 56s 114ms/step - loss: 0.9371 - accuracy: 0.6250 - val_loss: 1.0397 - val_accuracy: 0.5740\n",
      "Epoch 10/40\n",
      "490/490 [==============================] - 55s 113ms/step - loss: 0.8789 - accuracy: 0.6561 - val_loss: 1.0101 - val_accuracy: 0.6090\n",
      "Epoch 11/40\n",
      "490/490 [==============================] - 54s 110ms/step - loss: 0.7834 - accuracy: 0.6982 - val_loss: 1.0313 - val_accuracy: 0.5878\n",
      "Epoch 12/40\n",
      "490/490 [==============================] - 52s 107ms/step - loss: 0.7174 - accuracy: 0.7281 - val_loss: 0.9033 - val_accuracy: 0.6695\n",
      "Epoch 13/40\n",
      "490/490 [==============================] - 54s 111ms/step - loss: 0.6282 - accuracy: 0.7683 - val_loss: 0.8526 - val_accuracy: 0.6776\n",
      "Epoch 14/40\n",
      "490/490 [==============================] - 54s 111ms/step - loss: 0.5532 - accuracy: 0.8036 - val_loss: 0.7807 - val_accuracy: 0.7157\n",
      "Epoch 15/40\n",
      "490/490 [==============================] - 55s 113ms/step - loss: 0.6887 - accuracy: 0.7459 - val_loss: 0.9460 - val_accuracy: 0.6582\n",
      "Epoch 16/40\n",
      "490/490 [==============================] - 56s 114ms/step - loss: 0.5323 - accuracy: 0.8082 - val_loss: 0.8569 - val_accuracy: 0.7169\n",
      "Epoch 17/40\n",
      "490/490 [==============================] - 59s 120ms/step - loss: 0.4441 - accuracy: 0.8433 - val_loss: 0.8115 - val_accuracy: 0.7164\n",
      "Epoch 18/40\n",
      "490/490 [==============================] - 55s 112ms/step - loss: 0.3925 - accuracy: 0.8616 - val_loss: 0.8279 - val_accuracy: 0.7282\n",
      "Epoch 19/40\n",
      "490/490 [==============================] - 58s 119ms/step - loss: 0.3678 - accuracy: 0.8729 - val_loss: 0.8177 - val_accuracy: 0.7274\n",
      "123/123 [==============================] - 5s 42ms/step - loss: 0.7807 - accuracy: 0.7157\n",
      "Test Loss: 0.7806580066680908\n",
      "Test Accuracy: 0.7156712412834167\n"
     ]
    }
   ],
   "source": [
    "import tensorflow as tf\n",
    "from tensorflow.keras import Sequential\n",
    "from tensorflow.keras.layers import Dense, LSTM, Dropout\n",
    "from tensorflow.keras.optimizers import Adam\n",
    "from tensorflow.keras.callbacks import EarlyStopping\n",
    "\n",
    "input_shape=(100,38)\n",
    "\n",
    "model = Sequential()\n",
    "\n",
    "# Add an LSTM layer with 128 units and input_shape=(100,38)\n",
    "model.add(LSTM(128, return_sequences=True, input_shape=input_shape))\n",
    "model.add(Dropout(0.3))\n",
    "\n",
    "# Add a single LSTM layer with 64 units\n",
    "model.add(LSTM(64))\n",
    "model.add(Dropout(0.3))\n",
    "\n",
    "# Add dense layers with relu activation\n",
    "model.add(Dense(64, activation='relu'))\n",
    "model.add(Dense(32, activation='relu'))\n",
    "\n",
    "# Add a dropout layer\n",
    "model.add(Dropout(0.2))\n",
    "\n",
    "# Add output layer with softmax activation\n",
    "model.add(Dense(5, activation='softmax'))\n",
    "\n",
    "model.summary()\n",
    "\n",
    "# Compile the model\n",
    "optimizer = Adam(learning_rate=0.001, beta_1=0.9, beta_2=0.999)\n",
    "model.compile(optimizer=optimizer,\n",
    "              loss='categorical_crossentropy',\n",
    "              metrics=['accuracy'])\n",
    "\n",
    "# Define early stopping callback\n",
    "early_stopping = EarlyStopping(monitor='val_loss', patience=5, restore_best_weights=True)\n",
    "\n",
    "# Train the model\n",
    "history = model.fit(x_train, y_train_classification_onehot,\n",
    "                    validation_data=(x_test, y_test_classification_onehot),\n",
    "                    epochs=40, batch_size=32, callbacks=[early_stopping])\n",
    "\n",
    "# Evaluate the model\n",
    "evaluation_results = model.evaluate(x_test, y_test_classification_onehot)\n",
    "\n",
    "# Print the evaluation results\n",
    "print(\"Test Loss:\", evaluation_results[0])\n",
    "print(\"Test Accuracy:\", evaluation_results[1])"
   ]
  },
  {
   "cell_type": "code",
   "execution_count": 8,
   "id": "ae0eecb3",
   "metadata": {},
   "outputs": [],
   "source": [
    "from tensorflow.keras.models import load_model\n",
    "\n",
    "# Specify the path to the saved model file\n",
    "model_path = \"E:\\Anjali\\MODEL\\Malayalam\\LSTM_20E_final\"  # Update this with the actual path\n",
    "\n",
    "# Load the saved model\n",
    "lstm_model = load_model(model_path)"
   ]
  },
  {
   "cell_type": "code",
   "execution_count": 9,
   "id": "8ee8a818",
   "metadata": {
    "scrolled": true
   },
   "outputs": [
    {
     "name": "stdout",
     "output_type": "stream",
     "text": [
      "123/123 [==============================] - 5s 32ms/step - loss: 0.9534 - accuracy: 0.7335\n",
      "Test Loss: 0.953403115272522\n",
      "Test Accuracy: 0.733537495136261\n"
     ]
    }
   ],
   "source": [
    "# Evaluate the model\n",
    "lstm_evaluation_results = lstm_model.evaluate(x_test, y_test_classification_onehot)\n",
    "\n",
    "# Print the evaluation results\n",
    "print(\"Test Loss:\", lstm_evaluation_results[0])\n",
    "print(\"Test Accuracy:\", lstm_evaluation_results[1])"
   ]
  },
  {
   "cell_type": "code",
   "execution_count": 10,
   "id": "a16342a4",
   "metadata": {},
   "outputs": [
    {
     "name": "stdout",
     "output_type": "stream",
     "text": [
      "Model: \"sequential\"\n",
      "_________________________________________________________________\n",
      " Layer (type)                Output Shape              Param #   \n",
      "=================================================================\n",
      " lstm (LSTM)                 (None, 100, 128)          85504     \n",
      "                                                                 \n",
      " dropout (Dropout)           (None, 100, 128)          0         \n",
      "                                                                 \n",
      " lstm_1 (LSTM)               (None, 64)                49408     \n",
      "                                                                 \n",
      " dropout_1 (Dropout)         (None, 64)                0         \n",
      "                                                                 \n",
      " dense (Dense)               (None, 64)                4160      \n",
      "                                                                 \n",
      " dense_1 (Dense)             (None, 32)                2080      \n",
      "                                                                 \n",
      " dropout_2 (Dropout)         (None, 32)                0         \n",
      "                                                                 \n",
      " dense_2 (Dense)             (None, 5)                 165       \n",
      "                                                                 \n",
      "=================================================================\n",
      "Total params: 141,317\n",
      "Trainable params: 141,317\n",
      "Non-trainable params: 0\n",
      "_________________________________________________________________\n"
     ]
    }
   ],
   "source": [
    "lstm_model.summary()"
   ]
  },
  {
   "cell_type": "markdown",
   "id": "fe3e4809",
   "metadata": {},
   "source": [
    "## CNN MODEL"
   ]
  },
  {
   "cell_type": "code",
   "execution_count": 7,
   "id": "1032a66c",
   "metadata": {},
   "outputs": [
    {
     "name": "stdout",
     "output_type": "stream",
     "text": [
      "Model: \"model\"\n",
      "_________________________________________________________________\n",
      " Layer (type)                Output Shape              Param #   \n",
      "=================================================================\n",
      " input_1 (InputLayer)        [(None, 100, 38)]         0         \n",
      "                                                                 \n",
      " conv1d (Conv1D)             (None, 96, 32)            6112      \n",
      "                                                                 \n",
      " max_pooling1d (MaxPooling1D  (None, 48, 32)           0         \n",
      " )                                                               \n",
      "                                                                 \n",
      " conv1d_1 (Conv1D)           (None, 46, 64)            6208      \n",
      "                                                                 \n",
      " max_pooling1d_1 (MaxPooling  (None, 23, 64)           0         \n",
      " 1D)                                                             \n",
      "                                                                 \n",
      " flatten (Flatten)           (None, 1472)              0         \n",
      "                                                                 \n",
      " dense (Dense)               (None, 128)               188544    \n",
      "                                                                 \n",
      " dropout (Dropout)           (None, 128)               0         \n",
      "                                                                 \n",
      " classification_output (Dens  (None, 5)                645       \n",
      " e)                                                              \n",
      "                                                                 \n",
      "=================================================================\n",
      "Total params: 201,509\n",
      "Trainable params: 201,509\n",
      "Non-trainable params: 0\n",
      "_________________________________________________________________\n",
      "Epoch 1/20\n",
      "490/490 [==============================] - 10s 16ms/step - loss: 1.3704 - accuracy: 0.4002 - val_loss: 1.3236 - val_accuracy: 0.4068\n",
      "Epoch 2/20\n",
      "490/490 [==============================] - 7s 15ms/step - loss: 1.3062 - accuracy: 0.4142 - val_loss: 1.2864 - val_accuracy: 0.4074\n",
      "Epoch 3/20\n",
      "490/490 [==============================] - 7s 15ms/step - loss: 1.2431 - accuracy: 0.4345 - val_loss: 1.2343 - val_accuracy: 0.4329\n",
      "Epoch 4/20\n",
      "490/490 [==============================] - 7s 15ms/step - loss: 1.1600 - accuracy: 0.4753 - val_loss: 1.1664 - val_accuracy: 0.4775\n",
      "Epoch 5/20\n",
      "490/490 [==============================] - 7s 15ms/step - loss: 1.0565 - accuracy: 0.5417 - val_loss: 1.1369 - val_accuracy: 0.5107\n",
      "Epoch 6/20\n",
      "490/490 [==============================] - 7s 15ms/step - loss: 0.9337 - accuracy: 0.6134 - val_loss: 1.1360 - val_accuracy: 0.5365\n",
      "Epoch 7/20\n",
      "490/490 [==============================] - 7s 15ms/step - loss: 0.8220 - accuracy: 0.6606 - val_loss: 1.1071 - val_accuracy: 0.5462\n",
      "Epoch 8/20\n",
      "490/490 [==============================] - 7s 15ms/step - loss: 0.7159 - accuracy: 0.7136 - val_loss: 1.1866 - val_accuracy: 0.5462\n",
      "Epoch 9/20\n",
      "490/490 [==============================] - 7s 15ms/step - loss: 0.6182 - accuracy: 0.7569 - val_loss: 1.1631 - val_accuracy: 0.5516\n",
      "Epoch 10/20\n",
      "490/490 [==============================] - 7s 15ms/step - loss: 0.5361 - accuracy: 0.7892 - val_loss: 1.2678 - val_accuracy: 0.5613\n",
      "Epoch 11/20\n",
      "490/490 [==============================] - 7s 15ms/step - loss: 0.4751 - accuracy: 0.8169 - val_loss: 1.4215 - val_accuracy: 0.5268\n",
      "Epoch 12/20\n",
      "490/490 [==============================] - 7s 15ms/step - loss: 0.4155 - accuracy: 0.8415 - val_loss: 1.3326 - val_accuracy: 0.5569\n",
      "123/123 [==============================] - 1s 6ms/step - loss: 1.1071 - accuracy: 0.5462\n"
     ]
    }
   ],
   "source": [
    "import tensorflow as tf\n",
    "from tensorflow.keras.layers import Conv1D, MaxPooling1D, Flatten, Dense, Dropout, Input\n",
    "from tensorflow.keras.optimizers import Adam\n",
    "from tensorflow.keras.callbacks import EarlyStopping\n",
    "\n",
    "def create_classification_model(input_shape, dropout_rate=0.5, learning_rate=0.001):\n",
    "    input_layer = Input(shape=input_shape)\n",
    "\n",
    "    # Convolutional layers\n",
    "    conv1 = Conv1D(32, 5, activation='relu')(input_layer)\n",
    "    pool1 = MaxPooling1D(pool_size=2)(conv1)\n",
    "\n",
    "    conv2 = Conv1D(64, 3, activation='relu')(pool1)\n",
    "    pool2 = MaxPooling1D(pool_size=2)(conv2)\n",
    "\n",
    "    flatten = Flatten()(pool2)\n",
    "\n",
    "    # Fully connected layers\n",
    "    dense1 = Dense(128, activation='relu')(flatten)\n",
    "    dropout = Dropout(dropout_rate)(dense1)\n",
    "\n",
    "    # Output layer for classification\n",
    "    classification_output = Dense(5, activation='softmax', name='classification_output')(dropout)\n",
    "\n",
    "    # Create the model\n",
    "    model = tf.keras.Model(inputs=input_layer, outputs=classification_output)\n",
    "\n",
    "    # Compile the model\n",
    "    optimizer = Adam(learning_rate=learning_rate)\n",
    "    model.compile(optimizer=optimizer,\n",
    "                  loss='categorical_crossentropy',\n",
    "                  metrics=['accuracy'])\n",
    "\n",
    "    return model\n",
    "\n",
    "# Define the input shape based on the shape of a single segment\n",
    "input_shape = (100, 38)  # Shape of a single segment\n",
    "\n",
    "# Create the classification model\n",
    "classification_model = create_classification_model(input_shape)\n",
    "\n",
    "# Display model summary\n",
    "classification_model.summary()\n",
    "\n",
    "# Define early stopping callback\n",
    "early_stopping = EarlyStopping(monitor='val_loss', patience=5, restore_best_weights=True)\n",
    "\n",
    "# Train the model\n",
    "history = classification_model.fit(x_train, y_train_classification_onehot,\n",
    "                                   validation_data=(x_test, y_test_classification_onehot),\n",
    "                                   epochs=20, batch_size=32, callbacks=[early_stopping])\n",
    "\n",
    "# Evaluate the model\n",
    "evaluation_results = classification_model.evaluate(x_test, y_test_classification_onehot)"
   ]
  },
  {
   "cell_type": "code",
   "execution_count": 11,
   "id": "771d011b",
   "metadata": {},
   "outputs": [],
   "source": [
    "from tensorflow.keras.models import load_model\n",
    "\n",
    "# Specify the path to the saved model file\n",
    "model_path = \"E:\\Anjali\\MODEL\\Malayalam\\CNN_20E_final\"  # Update this with the actual path\n",
    "\n",
    "# Load the saved model\n",
    "cnn_model = load_model(model_path)"
   ]
  },
  {
   "cell_type": "code",
   "execution_count": 12,
   "id": "b13a64b1",
   "metadata": {},
   "outputs": [
    {
     "name": "stdout",
     "output_type": "stream",
     "text": [
      "123/123 [==============================] - 1s 4ms/step - loss: 1.1071 - accuracy: 0.5462\n",
      "Test Loss: 1.1071135997772217\n",
      "Test Accuracy: 0.5461970567703247\n"
     ]
    }
   ],
   "source": [
    "# Evaluate the model\n",
    "cnn_evaluation_results = cnn_model.evaluate(x_test, y_test_classification_onehot)\n",
    "\n",
    "# Print the evaluation results\n",
    "print(\"Test Loss:\", cnn_evaluation_results[0])\n",
    "print(\"Test Accuracy:\", cnn_evaluation_results[1])"
   ]
  },
  {
   "cell_type": "code",
   "execution_count": 13,
   "id": "03c5b6df",
   "metadata": {},
   "outputs": [
    {
     "name": "stdout",
     "output_type": "stream",
     "text": [
      "Model: \"model\"\n",
      "_________________________________________________________________\n",
      " Layer (type)                Output Shape              Param #   \n",
      "=================================================================\n",
      " input_1 (InputLayer)        [(None, 100, 38)]         0         \n",
      "                                                                 \n",
      " conv1d (Conv1D)             (None, 96, 32)            6112      \n",
      "                                                                 \n",
      " max_pooling1d (MaxPooling1D  (None, 48, 32)           0         \n",
      " )                                                               \n",
      "                                                                 \n",
      " conv1d_1 (Conv1D)           (None, 46, 64)            6208      \n",
      "                                                                 \n",
      " max_pooling1d_1 (MaxPooling  (None, 23, 64)           0         \n",
      " 1D)                                                             \n",
      "                                                                 \n",
      " flatten (Flatten)           (None, 1472)              0         \n",
      "                                                                 \n",
      " dense (Dense)               (None, 128)               188544    \n",
      "                                                                 \n",
      " dropout (Dropout)           (None, 128)               0         \n",
      "                                                                 \n",
      " classification_output (Dens  (None, 5)                645       \n",
      " e)                                                              \n",
      "                                                                 \n",
      "=================================================================\n",
      "Total params: 201,509\n",
      "Trainable params: 201,509\n",
      "Non-trainable params: 0\n",
      "_________________________________________________________________\n"
     ]
    }
   ],
   "source": [
    "cnn_model.summary()"
   ]
  },
  {
   "cell_type": "markdown",
   "id": "ae2e82f1",
   "metadata": {},
   "source": [
    "## Bi-LSTM"
   ]
  },
  {
   "cell_type": "code",
   "execution_count": 7,
   "id": "c10f8eec",
   "metadata": {},
   "outputs": [
    {
     "name": "stdout",
     "output_type": "stream",
     "text": [
      "Model: \"sequential\"\n",
      "_________________________________________________________________\n",
      " Layer (type)                Output Shape              Param #   \n",
      "=================================================================\n",
      " bidirectional (Bidirectiona  (None, 100, 256)         171008    \n",
      " l)                                                              \n",
      "                                                                 \n",
      " dropout (Dropout)           (None, 100, 256)          0         \n",
      "                                                                 \n",
      " bidirectional_1 (Bidirectio  (None, 64)               73984     \n",
      " nal)                                                            \n",
      "                                                                 \n",
      " dropout_1 (Dropout)         (None, 64)                0         \n",
      "                                                                 \n",
      " dense (Dense)               (None, 128)               8320      \n",
      "                                                                 \n",
      " dense_1 (Dense)             (None, 64)                8256      \n",
      "                                                                 \n",
      " dropout_2 (Dropout)         (None, 64)                0         \n",
      "                                                                 \n",
      " dense_2 (Dense)             (None, 5)                 325       \n",
      "                                                                 \n",
      "=================================================================\n",
      "Total params: 261,893\n",
      "Trainable params: 261,893\n",
      "Non-trainable params: 0\n",
      "_________________________________________________________________\n",
      "Epoch 1/30\n",
      "490/490 [==============================] - 95s 179ms/step - loss: 2.1643 - accuracy: 0.3364 - val_loss: 1.9010 - val_accuracy: 0.4068\n",
      "Epoch 2/30\n",
      "490/490 [==============================] - 90s 184ms/step - loss: 1.8144 - accuracy: 0.3913 - val_loss: 1.6950 - val_accuracy: 0.4068\n",
      "Epoch 3/30\n",
      "490/490 [==============================] - 90s 183ms/step - loss: 1.6399 - accuracy: 0.3955 - val_loss: 1.5566 - val_accuracy: 0.4068\n",
      "Epoch 4/30\n",
      "490/490 [==============================] - 90s 183ms/step - loss: 1.5260 - accuracy: 0.4045 - val_loss: 1.4602 - val_accuracy: 0.4068\n",
      "Epoch 5/30\n",
      "490/490 [==============================] - 90s 184ms/step - loss: 1.4372 - accuracy: 0.4084 - val_loss: 1.3798 - val_accuracy: 0.4068\n",
      "Epoch 6/30\n",
      "490/490 [==============================] - 93s 190ms/step - loss: 1.3605 - accuracy: 0.4197 - val_loss: 1.3203 - val_accuracy: 0.4193\n",
      "Epoch 7/30\n",
      "490/490 [==============================] - 90s 184ms/step - loss: 1.3091 - accuracy: 0.4399 - val_loss: 1.2633 - val_accuracy: 0.4546\n",
      "Epoch 8/30\n",
      "490/490 [==============================] - 91s 185ms/step - loss: 1.2504 - accuracy: 0.4712 - val_loss: 1.2321 - val_accuracy: 0.4712\n",
      "Epoch 9/30\n",
      "490/490 [==============================] - 92s 188ms/step - loss: 1.1957 - accuracy: 0.5017 - val_loss: 1.1704 - val_accuracy: 0.5202\n",
      "Epoch 10/30\n",
      "490/490 [==============================] - 92s 188ms/step - loss: 1.1454 - accuracy: 0.5360 - val_loss: 1.1260 - val_accuracy: 0.5528\n",
      "Epoch 11/30\n",
      "490/490 [==============================] - 93s 189ms/step - loss: 1.0998 - accuracy: 0.5637 - val_loss: 1.0993 - val_accuracy: 0.5623\n",
      "Epoch 12/30\n",
      "490/490 [==============================] - 92s 189ms/step - loss: 1.0464 - accuracy: 0.5898 - val_loss: 1.0864 - val_accuracy: 0.5697\n",
      "Epoch 13/30\n",
      "490/490 [==============================] - 93s 190ms/step - loss: 1.0125 - accuracy: 0.6096 - val_loss: 1.0560 - val_accuracy: 0.5873\n",
      "Epoch 14/30\n",
      "490/490 [==============================] - 93s 190ms/step - loss: 0.9718 - accuracy: 0.6274 - val_loss: 1.0317 - val_accuracy: 0.5957\n",
      "Epoch 15/30\n",
      "490/490 [==============================] - 102s 208ms/step - loss: 0.9338 - accuracy: 0.6474 - val_loss: 1.0293 - val_accuracy: 0.6097\n",
      "Epoch 16/30\n",
      "490/490 [==============================] - 100s 203ms/step - loss: 0.9033 - accuracy: 0.6588 - val_loss: 0.9967 - val_accuracy: 0.6169\n",
      "Epoch 17/30\n",
      "490/490 [==============================] - 93s 191ms/step - loss: 0.8749 - accuracy: 0.6757 - val_loss: 0.9802 - val_accuracy: 0.6194\n",
      "Epoch 18/30\n",
      "490/490 [==============================] - 93s 189ms/step - loss: 0.8393 - accuracy: 0.6877 - val_loss: 0.9635 - val_accuracy: 0.6320\n",
      "Epoch 19/30\n",
      "490/490 [==============================] - 93s 189ms/step - loss: 0.8127 - accuracy: 0.7038 - val_loss: 0.9546 - val_accuracy: 0.6376\n",
      "Epoch 20/30\n",
      "490/490 [==============================] - 94s 193ms/step - loss: 0.7779 - accuracy: 0.7194 - val_loss: 0.9331 - val_accuracy: 0.6417\n",
      "Epoch 21/30\n",
      "490/490 [==============================] - 95s 194ms/step - loss: 0.7439 - accuracy: 0.7309 - val_loss: 0.9259 - val_accuracy: 0.6631\n",
      "Epoch 22/30\n",
      "490/490 [==============================] - 93s 189ms/step - loss: 0.7238 - accuracy: 0.7424 - val_loss: 0.9334 - val_accuracy: 0.6554\n",
      "Epoch 23/30\n",
      "490/490 [==============================] - 93s 190ms/step - loss: 0.6907 - accuracy: 0.7564 - val_loss: 0.9345 - val_accuracy: 0.6753\n",
      "Epoch 24/30\n",
      "490/490 [==============================] - 94s 192ms/step - loss: 0.6676 - accuracy: 0.7674 - val_loss: 0.9156 - val_accuracy: 0.6702\n",
      "Epoch 25/30\n",
      "490/490 [==============================] - 94s 192ms/step - loss: 0.6315 - accuracy: 0.7824 - val_loss: 0.9209 - val_accuracy: 0.6764\n",
      "Epoch 26/30\n",
      "490/490 [==============================] - 93s 190ms/step - loss: 0.6144 - accuracy: 0.7907 - val_loss: 0.9141 - val_accuracy: 0.6804\n",
      "Epoch 27/30\n",
      "490/490 [==============================] - 92s 187ms/step - loss: 0.5954 - accuracy: 0.7952 - val_loss: 0.9415 - val_accuracy: 0.6884\n",
      "Epoch 28/30\n",
      "490/490 [==============================] - 92s 187ms/step - loss: 0.5796 - accuracy: 0.8043 - val_loss: 0.9430 - val_accuracy: 0.6927\n",
      "Epoch 29/30\n",
      "490/490 [==============================] - 91s 187ms/step - loss: 0.5579 - accuracy: 0.8142 - val_loss: 0.8964 - val_accuracy: 0.6947\n",
      "Epoch 30/30\n",
      "490/490 [==============================] - 94s 191ms/step - loss: 0.5331 - accuracy: 0.8224 - val_loss: 0.9133 - val_accuracy: 0.6945\n",
      "123/123 [==============================] - 12s 97ms/step - loss: 0.9133 - accuracy: 0.6945\n"
     ]
    }
   ],
   "source": [
    "import tensorflow as tf\n",
    "from tensorflow.keras import Sequential\n",
    "from tensorflow.keras.layers import Dense, LSTM, Dropout, Bidirectional\n",
    "from tensorflow.keras.optimizers import Adam\n",
    "from tensorflow.keras.regularizers import l2\n",
    "from tensorflow.keras.callbacks import EarlyStopping\n",
    "\n",
    "input_shape = (100, 38)\n",
    "\n",
    "model = Sequential()\n",
    "\n",
    "# Add a Bidirectional LSTM layer with 128 units and input_shape=(100,38)\n",
    "model.add(Bidirectional(LSTM(128, return_sequences=True), input_shape=input_shape))\n",
    "model.add(Dropout(0.4))  # Increased dropout rate for the first layer\n",
    "\n",
    "# Add another Bidirectional LSTM layer with 32 units\n",
    "model.add(Bidirectional(LSTM(32)))\n",
    "model.add(Dropout(0.5))  # Increased dropout rate for the second layer\n",
    "\n",
    "# Add dense layers with relu activation and L2 regularization\n",
    "model.add(Dense(128, activation='relu', kernel_regularizer=l2(0.01)))  # L2 regularization added\n",
    "model.add(Dense(64, activation='relu'))\n",
    "\n",
    "# Add a dropout layer\n",
    "model.add(Dropout(0.6))  # Increased dropout rate for the final dropout layer\n",
    "\n",
    "# Add output layer with softmax activation\n",
    "model.add(Dense(5, activation='softmax'))\n",
    "\n",
    "model.summary()\n",
    "\n",
    "# Define early stopping callback\n",
    "early_stopping = EarlyStopping(monitor='val_loss', patience=5, restore_best_weights=True)\n",
    "\n",
    "# Compile the model\n",
    "optimizer = Adam(learning_rate=0.0001, beta_1=0.9, beta_2=0.99)\n",
    "model.compile(optimizer=optimizer,\n",
    "              loss='categorical_crossentropy',\n",
    "              metrics=['accuracy'])\n",
    "\n",
    "# Train the model\n",
    "history = model.fit(x_train, y_train_classification_onehot,\n",
    "                    validation_data=(x_test, y_test_classification_onehot),\n",
    "                    epochs=30, batch_size=32,callbacks=[early_stopping])\n",
    "\n",
    "# Evaluate the model\n",
    "evaluation_results = model.evaluate(x_test, y_test_classification_onehot)"
   ]
  },
  {
   "cell_type": "code",
   "execution_count": 8,
   "id": "0544f435",
   "metadata": {},
   "outputs": [
    {
     "data": {
      "image/png": "[encoded data removed]",
      "text/plain": [
       "<Figure size 640x480 with 1 Axes>"
      ]
     },
     "metadata": {},
     "output_type": "display_data"
    },
    {
     "data": {
      "image/png": "[encoded data removed]",
      "text/plain": [
       "<Figure size 640x480 with 1 Axes>"
      ]
     },
     "metadata": {},
     "output_type": "display_data"
    }
   ],
   "source": [
    "import matplotlib.pyplot as plt\n",
    "# Plot training and validation loss\n",
    "\n",
    "plt.plot(history.history['loss'], label='Training Loss')\n",
    "plt.plot(history.history['val_loss'], label='Validation Loss')\n",
    "plt.title('Training and Validation Loss')\n",
    "plt.xlabel('Epoch')\n",
    "plt.ylabel('Loss')\n",
    "plt.legend()\n",
    "plt.show()\n",
    "\n",
    "# Plot training and validation accuracy\n",
    "plt.plot(history.history['accuracy'], label='Training Accuracy')\n",
    "plt.plot(history.history['val_accuracy'], label='Validation Accuracy')\n",
    "plt.title('Training and Validation Accuracy')\n",
    "plt.xlabel('Epoch')\n",
    "plt.ylabel('Accuracy')\n",
    "plt.legend()\n",
    "plt.show()"
   ]
  },
  {
   "cell_type": "code",
   "execution_count": 9,
   "id": "9ea70a0c",
   "metadata": {},
   "outputs": [
    {
     "name": "stderr",
     "output_type": "stream",
     "text": [
      "WARNING:absl:Found untraced functions such as _update_step_xla, lstm_cell_1_layer_call_fn, lstm_cell_1_layer_call_and_return_conditional_losses, lstm_cell_2_layer_call_fn, lstm_cell_2_layer_call_and_return_conditional_losses while saving (showing 5 of 9). These functions will not be directly callable after loading.\n"
     ]
    },
    {
     "name": "stdout",
     "output_type": "stream",
     "text": [
      "INFO:tensorflow:Assets written to: E:\\Anjali\\MODEL\\Malayalam\\BiLSTM_20E_good_69\\assets\n"
     ]
    },
    {
     "name": "stderr",
     "output_type": "stream",
     "text": [
      "INFO:tensorflow:Assets written to: E:\\Anjali\\MODEL\\Malayalam\\BiLSTM_20E_good_69\\assets\n"
     ]
    }
   ],
   "source": [
    "model.save(\"E:\\Anjali\\MODEL\\Malayalam\\BiLSTM_20E_good_69\")"
   ]
  },
  {
   "cell_type": "code",
   "execution_count": 15,
   "id": "fd2dc23a",
   "metadata": {},
   "outputs": [],
   "source": [
    "from tensorflow.keras.models import load_model\n",
    "\n",
    "# Specify the path to the saved model file\n",
    "model_path = \"E:\\Anjali\\MODEL\\Malayalam\\BiLSTM_20E_good\"  # Update this with the actual path\n",
    "\n",
    "# Load the saved model\n",
    "bilstm_model = load_model(model_path)"
   ]
  },
  {
   "cell_type": "code",
   "execution_count": 16,
   "id": "294a0e41",
   "metadata": {},
   "outputs": [
    {
     "name": "stdout",
     "output_type": "stream",
     "text": [
      "123/123 [==============================] - 8s 54ms/step - loss: 0.9474 - accuracy: 0.6483\n",
      "Test Loss: 0.9474031329154968\n",
      "Test Accuracy: 0.6482899188995361\n"
     ]
    }
   ],
   "source": [
    "# Evaluate the model\n",
    "bilstm_evaluation_results = bilstm_model.evaluate(x_test, y_test_classification_onehot)\n",
    "\n",
    "# Print the evaluation results\n",
    "print(\"Test Loss:\", bilstm_evaluation_results[0])\n",
    "print(\"Test Accuracy:\", bilstm_evaluation_results[1])"
   ]
  },
  {
   "cell_type": "code",
   "execution_count": 17,
   "id": "8dd01d71",
   "metadata": {},
   "outputs": [
    {
     "name": "stdout",
     "output_type": "stream",
     "text": [
      "CNN MODEL\n",
      "Test Loss: 1.1071135997772217\n",
      "Test Accuracy: 0.5461970567703247\n",
      "LSTM MODEL\n",
      "Test Loss: 0.953403115272522\n",
      "Test Accuracy: 0.733537495136261\n",
      "Bi-LSTM MODEL\n",
      "Test Loss: 0.9474031329154968\n",
      "Test Accuracy: 0.6482899188995361\n"
     ]
    }
   ],
   "source": [
    "print(\"CNN MODEL\")\n",
    "#cnn_model.summary()\n",
    "print(\"Test Loss:\", cnn_evaluation_results[0])\n",
    "print(\"Test Accuracy:\", cnn_evaluation_results[1])\n",
    "\n",
    "print(\"LSTM MODEL\")\n",
    "#lstm_model.summary()\n",
    "print(\"Test Loss:\", lstm_evaluation_results[0])\n",
    "print(\"Test Accuracy:\", lstm_evaluation_results[1])\n",
    "\n",
    "print(\"Bi-LSTM MODEL\")\n",
    "#bilstm_model.summary()\n",
    "print(\"Test Loss:\", bilstm_evaluation_results[0])\n",
    "print(\"Test Accuracy:\", bilstm_evaluation_results[1])"
   ]
  },
  {
   "cell_type": "code",
   "execution_count": null,
   "id": "aaea7ad1",
   "metadata": {},
   "outputs": [],
   "source": []
  }
 ],
 "metadata": {
  "kernelspec": {
   "display_name": "Python 3 (ipykernel)",
   "language": "python",
   "name": "python3"
  },
  "language_info": {
   "codemirror_mode": {
    "name": "ipython",
    "version": 3
   },
   "file_extension": ".py",
   "mimetype": "text/x-python",
   "name": "python",
   "nbconvert_exporter": "python",
   "pygments_lexer": "ipython3",
   "version": "3.9.7"
  }
 },
 "nbformat": 4,
 "nbformat_minor": 5
}
